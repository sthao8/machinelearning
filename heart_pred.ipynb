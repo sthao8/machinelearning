{
 "cells": [
  {
   "cell_type": "markdown",
   "metadata": {},
   "source": [
    "# Heart data\n",
    "\n",
    "In this journal, we try to minimize false negatives and maximize precision on a heart disease data set. Since the context of this problem is medical and would have highly undesirable consequences if patients do not receive medical attention when needed, we would like to decrease these cases while also having general high precision across all cases."
   ]
  },
  {
   "cell_type": "markdown",
   "metadata": {},
   "source": [
    "### Imports"
   ]
  },
  {
   "cell_type": "code",
   "execution_count": 63,
   "metadata": {},
   "outputs": [],
   "source": [
    "import pandas as pd\n",
    "import numpy as np\n",
    "import matplotlib.pyplot as plt\n",
    "from sklearn.model_selection import GridSearchCV, train_test_split, cross_val_score\n",
    "from sklearn.metrics import ConfusionMatrixDisplay, accuracy_score\n",
    "\n",
    "from xgboost import XGBClassifier"
   ]
  },
  {
   "cell_type": "markdown",
   "metadata": {},
   "source": [
    "### Read in data"
   ]
  },
  {
   "cell_type": "code",
   "execution_count": 128,
   "metadata": {},
   "outputs": [],
   "source": [
    "df = pd.read_csv(\"heart.csv\")"
   ]
  },
  {
   "cell_type": "markdown",
   "metadata": {},
   "source": [
    "############## INFO ###############\n",
    "\n",
    "    age\n",
    "    sex\n",
    "    chest pain type (4 values)\n",
    "    resting blood pressure\n",
    "    serum cholestoral in mg/dl\n",
    "    fasting blood sugar > 120 mg/dl\n",
    "    resting electrocardiographic results (values 0,1,2)\n",
    "    maximum heart rate achieved\n",
    "    exercise induced angina\n",
    "    oldpeak = ST depression induced by exercise relative to rest\n",
    "    the slope of the peak exercise ST segment\n",
    "    number of major vessels (0-3) colored by flourosopy\n",
    "    thal: 0 = normal; 1 = fixed defect; 2 = reversable defect\n",
    "    The names and social security numbers of the patients were recently removed from the database, replaced with dummy values.\n",
    "\n",
    "#################################"
   ]
  },
  {
   "cell_type": "markdown",
   "metadata": {},
   "source": [
    "### Data analysis\n",
    "\n",
    "Though there are 723 duplicates in the data set that we would normally drop, in this case, we assume the duplicates are patients with the same medical readings, which could reflect reality.\n",
    "\n",
    "Outliers, calculated with the z-score, are interesting here. There are 56 rows that contain values that could be considered extreme. Again, considering the context, we assume these outliers could be helpful in our real-life situation where patients might present with \"weird\" values and we'll keep the outliers for now."
   ]
  },
  {
   "cell_type": "code",
   "execution_count": 65,
   "metadata": {},
   "outputs": [
    {
     "data": {
      "text/html": [
       "<div>\n",
       "<style scoped>\n",
       "    .dataframe tbody tr th:only-of-type {\n",
       "        vertical-align: middle;\n",
       "    }\n",
       "\n",
       "    .dataframe tbody tr th {\n",
       "        vertical-align: top;\n",
       "    }\n",
       "\n",
       "    .dataframe thead th {\n",
       "        text-align: right;\n",
       "    }\n",
       "</style>\n",
       "<table border=\"1\" class=\"dataframe\">\n",
       "  <thead>\n",
       "    <tr style=\"text-align: right;\">\n",
       "      <th></th>\n",
       "      <th>age</th>\n",
       "      <th>sex</th>\n",
       "      <th>cp</th>\n",
       "      <th>trestbps</th>\n",
       "      <th>chol</th>\n",
       "      <th>fbs</th>\n",
       "      <th>restecg</th>\n",
       "      <th>thalach</th>\n",
       "      <th>exang</th>\n",
       "      <th>oldpeak</th>\n",
       "      <th>slope</th>\n",
       "      <th>ca</th>\n",
       "      <th>thal</th>\n",
       "      <th>target</th>\n",
       "    </tr>\n",
       "  </thead>\n",
       "  <tbody>\n",
       "    <tr>\n",
       "      <th>count</th>\n",
       "      <td>1025.000000</td>\n",
       "      <td>1025.000000</td>\n",
       "      <td>1025.000000</td>\n",
       "      <td>1025.000000</td>\n",
       "      <td>1025.00000</td>\n",
       "      <td>1025.000000</td>\n",
       "      <td>1025.000000</td>\n",
       "      <td>1025.000000</td>\n",
       "      <td>1025.000000</td>\n",
       "      <td>1025.000000</td>\n",
       "      <td>1025.000000</td>\n",
       "      <td>1025.000000</td>\n",
       "      <td>1025.000000</td>\n",
       "      <td>1025.000000</td>\n",
       "    </tr>\n",
       "    <tr>\n",
       "      <th>mean</th>\n",
       "      <td>54.434146</td>\n",
       "      <td>0.695610</td>\n",
       "      <td>0.942439</td>\n",
       "      <td>131.611707</td>\n",
       "      <td>246.00000</td>\n",
       "      <td>0.149268</td>\n",
       "      <td>0.529756</td>\n",
       "      <td>149.114146</td>\n",
       "      <td>0.336585</td>\n",
       "      <td>1.071512</td>\n",
       "      <td>1.385366</td>\n",
       "      <td>0.754146</td>\n",
       "      <td>2.323902</td>\n",
       "      <td>0.513171</td>\n",
       "    </tr>\n",
       "    <tr>\n",
       "      <th>std</th>\n",
       "      <td>9.072290</td>\n",
       "      <td>0.460373</td>\n",
       "      <td>1.029641</td>\n",
       "      <td>17.516718</td>\n",
       "      <td>51.59251</td>\n",
       "      <td>0.356527</td>\n",
       "      <td>0.527878</td>\n",
       "      <td>23.005724</td>\n",
       "      <td>0.472772</td>\n",
       "      <td>1.175053</td>\n",
       "      <td>0.617755</td>\n",
       "      <td>1.030798</td>\n",
       "      <td>0.620660</td>\n",
       "      <td>0.500070</td>\n",
       "    </tr>\n",
       "    <tr>\n",
       "      <th>min</th>\n",
       "      <td>29.000000</td>\n",
       "      <td>0.000000</td>\n",
       "      <td>0.000000</td>\n",
       "      <td>94.000000</td>\n",
       "      <td>126.00000</td>\n",
       "      <td>0.000000</td>\n",
       "      <td>0.000000</td>\n",
       "      <td>71.000000</td>\n",
       "      <td>0.000000</td>\n",
       "      <td>0.000000</td>\n",
       "      <td>0.000000</td>\n",
       "      <td>0.000000</td>\n",
       "      <td>0.000000</td>\n",
       "      <td>0.000000</td>\n",
       "    </tr>\n",
       "    <tr>\n",
       "      <th>25%</th>\n",
       "      <td>48.000000</td>\n",
       "      <td>0.000000</td>\n",
       "      <td>0.000000</td>\n",
       "      <td>120.000000</td>\n",
       "      <td>211.00000</td>\n",
       "      <td>0.000000</td>\n",
       "      <td>0.000000</td>\n",
       "      <td>132.000000</td>\n",
       "      <td>0.000000</td>\n",
       "      <td>0.000000</td>\n",
       "      <td>1.000000</td>\n",
       "      <td>0.000000</td>\n",
       "      <td>2.000000</td>\n",
       "      <td>0.000000</td>\n",
       "    </tr>\n",
       "    <tr>\n",
       "      <th>50%</th>\n",
       "      <td>56.000000</td>\n",
       "      <td>1.000000</td>\n",
       "      <td>1.000000</td>\n",
       "      <td>130.000000</td>\n",
       "      <td>240.00000</td>\n",
       "      <td>0.000000</td>\n",
       "      <td>1.000000</td>\n",
       "      <td>152.000000</td>\n",
       "      <td>0.000000</td>\n",
       "      <td>0.800000</td>\n",
       "      <td>1.000000</td>\n",
       "      <td>0.000000</td>\n",
       "      <td>2.000000</td>\n",
       "      <td>1.000000</td>\n",
       "    </tr>\n",
       "    <tr>\n",
       "      <th>75%</th>\n",
       "      <td>61.000000</td>\n",
       "      <td>1.000000</td>\n",
       "      <td>2.000000</td>\n",
       "      <td>140.000000</td>\n",
       "      <td>275.00000</td>\n",
       "      <td>0.000000</td>\n",
       "      <td>1.000000</td>\n",
       "      <td>166.000000</td>\n",
       "      <td>1.000000</td>\n",
       "      <td>1.800000</td>\n",
       "      <td>2.000000</td>\n",
       "      <td>1.000000</td>\n",
       "      <td>3.000000</td>\n",
       "      <td>1.000000</td>\n",
       "    </tr>\n",
       "    <tr>\n",
       "      <th>max</th>\n",
       "      <td>77.000000</td>\n",
       "      <td>1.000000</td>\n",
       "      <td>3.000000</td>\n",
       "      <td>200.000000</td>\n",
       "      <td>564.00000</td>\n",
       "      <td>1.000000</td>\n",
       "      <td>2.000000</td>\n",
       "      <td>202.000000</td>\n",
       "      <td>1.000000</td>\n",
       "      <td>6.200000</td>\n",
       "      <td>2.000000</td>\n",
       "      <td>4.000000</td>\n",
       "      <td>3.000000</td>\n",
       "      <td>1.000000</td>\n",
       "    </tr>\n",
       "  </tbody>\n",
       "</table>\n",
       "</div>"
      ],
      "text/plain": [
       "               age          sex  ...         thal       target\n",
       "count  1025.000000  1025.000000  ...  1025.000000  1025.000000\n",
       "mean     54.434146     0.695610  ...     2.323902     0.513171\n",
       "std       9.072290     0.460373  ...     0.620660     0.500070\n",
       "min      29.000000     0.000000  ...     0.000000     0.000000\n",
       "25%      48.000000     0.000000  ...     2.000000     0.000000\n",
       "50%      56.000000     1.000000  ...     2.000000     1.000000\n",
       "75%      61.000000     1.000000  ...     3.000000     1.000000\n",
       "max      77.000000     1.000000  ...     3.000000     1.000000\n",
       "\n",
       "[8 rows x 14 columns]"
      ]
     },
     "execution_count": 65,
     "metadata": {},
     "output_type": "execute_result"
    }
   ],
   "source": [
    "df.describe()"
   ]
  },
  {
   "cell_type": "code",
   "execution_count": 106,
   "metadata": {},
   "outputs": [
    {
     "name": "stdout",
     "output_type": "stream",
     "text": [
      "<class 'pandas.core.frame.DataFrame'>\n",
      "Index: 969 entries, 0 to 1024\n",
      "Data columns (total 14 columns):\n",
      " #   Column    Non-Null Count  Dtype  \n",
      "---  ------    --------------  -----  \n",
      " 0   age       969 non-null    int64  \n",
      " 1   sex       969 non-null    int64  \n",
      " 2   cp        969 non-null    int64  \n",
      " 3   trestbps  969 non-null    int64  \n",
      " 4   chol      969 non-null    int64  \n",
      " 5   fbs       969 non-null    int64  \n",
      " 6   restecg   969 non-null    int64  \n",
      " 7   thalach   969 non-null    int64  \n",
      " 8   exang     969 non-null    int64  \n",
      " 9   oldpeak   969 non-null    float64\n",
      " 10  slope     969 non-null    int64  \n",
      " 11  ca        969 non-null    int64  \n",
      " 12  thal      969 non-null    int64  \n",
      " 13  target    969 non-null    int64  \n",
      "dtypes: float64(1), int64(13)\n",
      "memory usage: 145.8 KB\n"
     ]
    }
   ],
   "source": [
    "df.info()"
   ]
  },
  {
   "cell_type": "code",
   "execution_count": 67,
   "metadata": {},
   "outputs": [],
   "source": [
    "def find_outliers(df: pd.DataFrame):\n",
    "    \"\"\"Find extreme values by calculating the z-score.\n",
    "    Returns set of indices of outliers in a dataframe\"\"\"\n",
    "    outliers = set()\n",
    "    for column in df.columns:\n",
    "        mean = df[column].mean()\n",
    "        std = df[column].std()\n",
    "        for index, value in df[column].items():\n",
    "            z_score = (value - mean) / std\n",
    "            if z_score < -3 or z_score > 3:\n",
    "                outliers.add(index)\n",
    "    return outliers\n",
    "\n",
    "def analyze_data(df: pd.DataFrame, dataset_label: str=\"Data set 1\"): \n",
    "    \"\"\"\n",
    "    Print out analysis data about a data set given a dataframe\n",
    "    and the data set label to be printed out\n",
    "    \"\"\"\n",
    "    print(dataset_label)\n",
    "    print(df.describe(include=\"all\"))\n",
    "\n",
    "    # Find missing values\n",
    "    n_values = len(df)\n",
    "\n",
    "    for column in df.columns:\n",
    "        n_col_values = df[column].count()\n",
    "        if n_col_values != n_values:\n",
    "            print(f\"{column} missing {abs(n_col_values - n_values)} values\")\n",
    "\n",
    "    # Find number of rows with duplicates\n",
    "    print(f\"Duplicates: {df.duplicated().sum()}\")\n",
    "\n",
    "    # Find outliers\n",
    "    outliers = find_outliers(df)\n",
    "    \n",
    "    print(f\"Extreme value indices: {outliers if len(outliers) > 0 else 'None'}\")\n",
    "    print(f\"outliers count: {len(outliers)}\")\n",
    "    print(\"\\n\")"
   ]
  },
  {
   "cell_type": "code",
   "execution_count": 86,
   "metadata": {},
   "outputs": [
    {
     "name": "stdout",
     "output_type": "stream",
     "text": [
      "Heart data\n",
      "               age          sex  ...           ca         thal\n",
      "count  1025.000000  1025.000000  ...  1025.000000  1025.000000\n",
      "mean     54.434146     0.695610  ...     0.754146     2.323902\n",
      "std       9.072290     0.460373  ...     1.030798     0.620660\n",
      "min      29.000000     0.000000  ...     0.000000     0.000000\n",
      "25%      48.000000     0.000000  ...     0.000000     2.000000\n",
      "50%      56.000000     1.000000  ...     0.000000     2.000000\n",
      "75%      61.000000     1.000000  ...     1.000000     3.000000\n",
      "max      77.000000     1.000000  ...     4.000000     3.000000\n",
      "\n",
      "[8 rows x 13 columns]\n",
      "Duplicates: 723\n",
      "Extreme value indices: {128, 641, 393, 521, 267, 526, 14, 151, 665, 158, 417, 290, 294, 296, 428, 685, 686, 175, 688, 559, 179, 52, 54, 55, 958, 831, 192, 833, 450, 319, 69, 326, 329, 970, 464, 208, 465, 83, 340, 597, 348, 734, 481, 993, 996, 613, 743, 359, 749, 242, 246, 889, 378, 123, 508, 893}\n",
      "outliers count: 56\n",
      "\n",
      "\n"
     ]
    }
   ],
   "source": [
    "analyze_data(df.drop(columns=\"target\"), \"Heart data\")"
   ]
  },
  {
   "cell_type": "markdown",
   "metadata": {},
   "source": [
    "# Training using XGBClassifier\n",
    "\n",
    "We get an accuracy score of 99%, which is really great! Clearly this dataset behaves very well. There was, however, a small amount of false negatives, which we would like to avoid even at the cost of accuracy."
   ]
  },
  {
   "cell_type": "code",
   "execution_count": 108,
   "metadata": {},
   "outputs": [
    {
     "name": "stdout",
     "output_type": "stream",
     "text": [
      "Accuracy: 0.9853658536585366\n",
      "<sklearn.metrics._plot.confusion_matrix.ConfusionMatrixDisplay object at 0x7fc881a87e20>\n"
     ]
    },
    {
     "data": {
      "image/png": "[encoded data removed]",
      "text/plain": [
       "<Figure size 640x480 with 2 Axes>"
      ]
     },
     "metadata": {},
     "output_type": "display_data"
    }
   ],
   "source": [
    "X = df.drop(columns=\"target\")\n",
    "y = df[\"target\"]\n",
    "\n",
    "X_train, X_test, y_train, y_test = train_test_split(X, y, test_size=0.2, random_state=42)\n",
    "\n",
    "xgb_clf = XGBClassifier()\n",
    "\n",
    "xgb_clf.fit(X_train, y_train)\n",
    "\n",
    "predictions = xgb_clf.predict(X_test)\n",
    "accuracy = accuracy_score(y_test, predictions)\n",
    "conf_matrix = ConfusionMatrixDisplay.from_predictions(y_test, predictions)\n",
    "\n",
    "print(f\"Accuracy: {accuracy}\")\n",
    "print(conf_matrix)\n"
   ]
  },
  {
   "cell_type": "markdown",
   "metadata": {},
   "source": [
    "### Grid search to find best params\n",
    "\n",
    "Let's use grid search to find the best parameters to tune our classifier with in the hopes of reducing the false negatives."
   ]
  },
  {
   "cell_type": "code",
   "execution_count": 70,
   "metadata": {},
   "outputs": [
    {
     "name": "stdout",
     "output_type": "stream",
     "text": [
      "Fitting 3 folds for each of 24 candidates, totalling 72 fits\n",
      "[CV] END colsample_bytree=0.7, gamma=0, learning_rate=0.01, max_depth=3, n_estimators=500, subsample=1.0; total time=   0.2s\n",
      "[CV] END colsample_bytree=0.7, gamma=0, learning_rate=0.01, max_depth=3, n_estimators=500, subsample=1.0; total time=   0.2s\n",
      "[CV] END colsample_bytree=0.7, gamma=0, learning_rate=0.01, max_depth=3, n_estimators=500, subsample=1.0; total time=   0.1s\n",
      "[CV] END colsample_bytree=0.7, gamma=0, learning_rate=0.01, max_depth=5, n_estimators=500, subsample=1.0; total time=   0.2s\n",
      "[CV] END colsample_bytree=0.7, gamma=0, learning_rate=0.01, max_depth=5, n_estimators=500, subsample=1.0; total time=   0.1s\n",
      "[CV] END colsample_bytree=0.7, gamma=0, learning_rate=0.01, max_depth=5, n_estimators=500, subsample=1.0; total time=   0.2s\n",
      "[CV] END colsample_bytree=0.7, gamma=0, learning_rate=0.01, max_depth=7, n_estimators=500, subsample=1.0; total time=   0.2s\n",
      "[CV] END colsample_bytree=0.7, gamma=0, learning_rate=0.01, max_depth=7, n_estimators=500, subsample=1.0; total time=   0.2s\n",
      "[CV] END colsample_bytree=0.7, gamma=0, learning_rate=0.01, max_depth=7, n_estimators=500, subsample=1.0; total time=   0.4s\n",
      "[CV] END colsample_bytree=0.7, gamma=0, learning_rate=0.01, max_depth=10, n_estimators=500, subsample=1.0; total time=   0.2s\n",
      "[CV] END colsample_bytree=0.7, gamma=0, learning_rate=0.01, max_depth=10, n_estimators=500, subsample=1.0; total time=   0.2s\n",
      "[CV] END colsample_bytree=0.7, gamma=0, learning_rate=0.01, max_depth=10, n_estimators=500, subsample=1.0; total time=   0.3s\n",
      "[CV] END colsample_bytree=0.7, gamma=0, learning_rate=0.1, max_depth=3, n_estimators=500, subsample=1.0; total time=   0.2s\n",
      "[CV] END colsample_bytree=0.7, gamma=0, learning_rate=0.1, max_depth=3, n_estimators=500, subsample=1.0; total time=   0.1s\n",
      "[CV] END colsample_bytree=0.7, gamma=0, learning_rate=0.1, max_depth=3, n_estimators=500, subsample=1.0; total time=   0.1s\n",
      "[CV] END colsample_bytree=0.7, gamma=0, learning_rate=0.1, max_depth=5, n_estimators=500, subsample=1.0; total time=   0.2s\n",
      "[CV] END colsample_bytree=0.7, gamma=0, learning_rate=0.1, max_depth=5, n_estimators=500, subsample=1.0; total time=   0.1s\n",
      "[CV] END colsample_bytree=0.7, gamma=0, learning_rate=0.1, max_depth=5, n_estimators=500, subsample=1.0; total time=   0.2s\n",
      "[CV] END colsample_bytree=0.7, gamma=0, learning_rate=0.1, max_depth=7, n_estimators=500, subsample=1.0; total time=   0.1s\n",
      "[CV] END colsample_bytree=0.7, gamma=0, learning_rate=0.1, max_depth=7, n_estimators=500, subsample=1.0; total time=   0.2s\n",
      "[CV] END colsample_bytree=0.7, gamma=0, learning_rate=0.1, max_depth=7, n_estimators=500, subsample=1.0; total time=   0.3s\n",
      "[CV] END colsample_bytree=0.7, gamma=0, learning_rate=0.1, max_depth=10, n_estimators=500, subsample=1.0; total time=   0.1s\n",
      "[CV] END colsample_bytree=0.7, gamma=0, learning_rate=0.1, max_depth=10, n_estimators=500, subsample=1.0; total time=   0.2s\n",
      "[CV] END colsample_bytree=0.7, gamma=0, learning_rate=0.1, max_depth=10, n_estimators=500, subsample=1.0; total time=   0.2s\n",
      "[CV] END colsample_bytree=0.8, gamma=0, learning_rate=0.01, max_depth=3, n_estimators=500, subsample=1.0; total time=   0.1s\n",
      "[CV] END colsample_bytree=0.8, gamma=0, learning_rate=0.01, max_depth=3, n_estimators=500, subsample=1.0; total time=   0.2s\n",
      "[CV] END colsample_bytree=0.8, gamma=0, learning_rate=0.01, max_depth=3, n_estimators=500, subsample=1.0; total time=   0.1s\n",
      "[CV] END colsample_bytree=0.8, gamma=0, learning_rate=0.01, max_depth=5, n_estimators=500, subsample=1.0; total time=   0.5s\n",
      "[CV] END colsample_bytree=0.8, gamma=0, learning_rate=0.01, max_depth=5, n_estimators=500, subsample=1.0; total time=   0.2s\n",
      "[CV] END colsample_bytree=0.8, gamma=0, learning_rate=0.01, max_depth=5, n_estimators=500, subsample=1.0; total time=   0.2s\n",
      "[CV] END colsample_bytree=0.8, gamma=0, learning_rate=0.01, max_depth=7, n_estimators=500, subsample=1.0; total time=   0.6s\n",
      "[CV] END colsample_bytree=0.8, gamma=0, learning_rate=0.01, max_depth=7, n_estimators=500, subsample=1.0; total time=   0.3s\n",
      "[CV] END colsample_bytree=0.8, gamma=0, learning_rate=0.01, max_depth=7, n_estimators=500, subsample=1.0; total time=   0.2s\n",
      "[CV] END colsample_bytree=0.8, gamma=0, learning_rate=0.01, max_depth=10, n_estimators=500, subsample=1.0; total time=   0.2s\n",
      "[CV] END colsample_bytree=0.8, gamma=0, learning_rate=0.01, max_depth=10, n_estimators=500, subsample=1.0; total time=   0.2s\n",
      "[CV] END colsample_bytree=0.8, gamma=0, learning_rate=0.01, max_depth=10, n_estimators=500, subsample=1.0; total time=   0.2s\n",
      "[CV] END colsample_bytree=0.8, gamma=0, learning_rate=0.1, max_depth=3, n_estimators=500, subsample=1.0; total time=   0.1s\n",
      "[CV] END colsample_bytree=0.8, gamma=0, learning_rate=0.1, max_depth=3, n_estimators=500, subsample=1.0; total time=   0.1s\n",
      "[CV] END colsample_bytree=0.8, gamma=0, learning_rate=0.1, max_depth=3, n_estimators=500, subsample=1.0; total time=   0.1s\n",
      "[CV] END colsample_bytree=0.8, gamma=0, learning_rate=0.1, max_depth=5, n_estimators=500, subsample=1.0; total time=   0.3s\n",
      "[CV] END colsample_bytree=0.8, gamma=0, learning_rate=0.1, max_depth=5, n_estimators=500, subsample=1.0; total time=   0.5s\n",
      "[CV] END colsample_bytree=0.8, gamma=0, learning_rate=0.1, max_depth=5, n_estimators=500, subsample=1.0; total time=   0.2s\n",
      "[CV] END colsample_bytree=0.8, gamma=0, learning_rate=0.1, max_depth=7, n_estimators=500, subsample=1.0; total time=   0.2s\n",
      "[CV] END colsample_bytree=0.8, gamma=0, learning_rate=0.1, max_depth=7, n_estimators=500, subsample=1.0; total time=   0.1s\n",
      "[CV] END colsample_bytree=0.8, gamma=0, learning_rate=0.1, max_depth=7, n_estimators=500, subsample=1.0; total time=   0.1s\n",
      "[CV] END colsample_bytree=0.8, gamma=0, learning_rate=0.1, max_depth=10, n_estimators=500, subsample=1.0; total time=   0.1s\n",
      "[CV] END colsample_bytree=0.8, gamma=0, learning_rate=0.1, max_depth=10, n_estimators=500, subsample=1.0; total time=   0.1s\n",
      "[CV] END colsample_bytree=0.8, gamma=0, learning_rate=0.1, max_depth=10, n_estimators=500, subsample=1.0; total time=   0.1s\n",
      "[CV] END colsample_bytree=1.0, gamma=0, learning_rate=0.01, max_depth=3, n_estimators=500, subsample=1.0; total time=   0.3s\n",
      "[CV] END colsample_bytree=1.0, gamma=0, learning_rate=0.01, max_depth=3, n_estimators=500, subsample=1.0; total time=   0.4s\n",
      "[CV] END colsample_bytree=1.0, gamma=0, learning_rate=0.01, max_depth=3, n_estimators=500, subsample=1.0; total time=   0.3s\n",
      "[CV] END colsample_bytree=1.0, gamma=0, learning_rate=0.01, max_depth=5, n_estimators=500, subsample=1.0; total time=   0.2s\n",
      "[CV] END colsample_bytree=1.0, gamma=0, learning_rate=0.01, max_depth=5, n_estimators=500, subsample=1.0; total time=   0.1s\n",
      "[CV] END colsample_bytree=1.0, gamma=0, learning_rate=0.01, max_depth=5, n_estimators=500, subsample=1.0; total time=   0.2s\n",
      "[CV] END colsample_bytree=1.0, gamma=0, learning_rate=0.01, max_depth=7, n_estimators=500, subsample=1.0; total time=   0.2s\n",
      "[CV] END colsample_bytree=1.0, gamma=0, learning_rate=0.01, max_depth=7, n_estimators=500, subsample=1.0; total time=   0.2s\n",
      "[CV] END colsample_bytree=1.0, gamma=0, learning_rate=0.01, max_depth=7, n_estimators=500, subsample=1.0; total time=   0.2s\n",
      "[CV] END colsample_bytree=1.0, gamma=0, learning_rate=0.01, max_depth=10, n_estimators=500, subsample=1.0; total time=   0.2s\n",
      "[CV] END colsample_bytree=1.0, gamma=0, learning_rate=0.01, max_depth=10, n_estimators=500, subsample=1.0; total time=   0.3s\n",
      "[CV] END colsample_bytree=1.0, gamma=0, learning_rate=0.01, max_depth=10, n_estimators=500, subsample=1.0; total time=   0.2s\n",
      "[CV] END colsample_bytree=1.0, gamma=0, learning_rate=0.1, max_depth=3, n_estimators=500, subsample=1.0; total time=   0.2s\n",
      "[CV] END colsample_bytree=1.0, gamma=0, learning_rate=0.1, max_depth=3, n_estimators=500, subsample=1.0; total time=   0.1s\n",
      "[CV] END colsample_bytree=1.0, gamma=0, learning_rate=0.1, max_depth=3, n_estimators=500, subsample=1.0; total time=   0.1s\n",
      "[CV] END colsample_bytree=1.0, gamma=0, learning_rate=0.1, max_depth=5, n_estimators=500, subsample=1.0; total time=   0.1s\n",
      "[CV] END colsample_bytree=1.0, gamma=0, learning_rate=0.1, max_depth=5, n_estimators=500, subsample=1.0; total time=   0.1s\n",
      "[CV] END colsample_bytree=1.0, gamma=0, learning_rate=0.1, max_depth=5, n_estimators=500, subsample=1.0; total time=   0.1s\n",
      "[CV] END colsample_bytree=1.0, gamma=0, learning_rate=0.1, max_depth=7, n_estimators=500, subsample=1.0; total time=   0.1s\n",
      "[CV] END colsample_bytree=1.0, gamma=0, learning_rate=0.1, max_depth=7, n_estimators=500, subsample=1.0; total time=   0.1s\n",
      "[CV] END colsample_bytree=1.0, gamma=0, learning_rate=0.1, max_depth=7, n_estimators=500, subsample=1.0; total time=   0.1s\n",
      "[CV] END colsample_bytree=1.0, gamma=0, learning_rate=0.1, max_depth=10, n_estimators=500, subsample=1.0; total time=   0.1s\n",
      "[CV] END colsample_bytree=1.0, gamma=0, learning_rate=0.1, max_depth=10, n_estimators=500, subsample=1.0; total time=   0.1s\n",
      "[CV] END colsample_bytree=1.0, gamma=0, learning_rate=0.1, max_depth=10, n_estimators=500, subsample=1.0; total time=   0.5s\n",
      "Best parameters {'colsample_bytree': 0.7, 'gamma': 0, 'learning_rate': 0.1, 'max_depth': 7, 'n_estimators': 500, 'subsample': 1.0}\n",
      "Best accuracy: 0.983451536643026\n"
     ]
    }
   ],
   "source": [
    "model = XGBClassifier(objective=\"binary:logistic\", eval_metric=\"aucpr\")\n",
    "\n",
    "param_grid = {\n",
    "    \"n_estimators\": [500],\n",
    "    \"learning_rate\": [0.01, 0.1],\n",
    "    \"max_depth\": [3, 5, 7, 10],\n",
    "    \"subsample\": [1.0],\n",
    "    \"colsample_bytree\": [0.7, 0.8, 1.0],\n",
    "    \"gamma\": [0]\n",
    "}\n",
    "\n",
    "grid_search = GridSearchCV(estimator=model, param_grid=param_grid, cv=3, scoring=\"recall\", verbose=2)\n",
    "\n",
    "grid_search.fit(X_train, y_train)\n",
    "\n",
    "best_params = grid_search.best_params_\n",
    "best_score = grid_search.best_score_\n",
    "\n",
    "print(\"Best parameters\", best_params)\n",
    "print(\"Best accuracy:\", best_score)"
   ]
  },
  {
   "cell_type": "markdown",
   "metadata": {},
   "source": [
    "### Not helpful\n",
    "\n",
    "Unfortunately, the best model does not fare any better with false negatives."
   ]
  },
  {
   "cell_type": "code",
   "execution_count": 116,
   "metadata": {},
   "outputs": [
    {
     "name": "stdout",
     "output_type": "stream",
     "text": [
      "Accuracy: 0.9853658536585366\n",
      "<sklearn.metrics._plot.confusion_matrix.ConfusionMatrixDisplay object at 0x7fc85c640730>\n"
     ]
    },
    {
     "data": {
      "image/png": "[encoded data removed]",
      "text/plain": [
       "<Figure size 640x480 with 2 Axes>"
      ]
     },
     "metadata": {},
     "output_type": "display_data"
    }
   ],
   "source": [
    "# Didn't help with results\n",
    "best_model = grid_search.best_estimator_\n",
    "best_pred = best_model.predict(X_test)\n",
    "\n",
    "accuracy = accuracy_score(y_test, best_pred)\n",
    "print(f\"Accuracy: {accuracy}\")\n",
    "print(ConfusionMatrixDisplay.from_predictions(y_test, best_pred))"
   ]
  },
  {
   "cell_type": "markdown",
   "metadata": {},
   "source": [
    "### Lower the threshold\n",
    "\n",
    "The aim here was to use XGBoost.predict_proba to return the probabilities of a test data point being labelled as a 1. If we lower the probabilty down from the default, which is 0.5, we might be able to favor false positives instead of false negatives. In other words, we would label more patients as falsely having heart disease than those who falsely are health. This approach can be helpful when we would rather have patients recieve unecessary medical attention than dying.\n",
    "\n",
    "However, lowering the threshold didn't help and only increased the likelihood of labeling true negatives as false positives. "
   ]
  },
  {
   "cell_type": "code",
   "execution_count": 130,
   "metadata": {},
   "outputs": [
    {
     "name": "stdout",
     "output_type": "stream",
     "text": [
      "<sklearn.metrics._plot.confusion_matrix.ConfusionMatrixDisplay object at 0x7fc85c44d150>\n"
     ]
    },
    {
     "data": {
      "image/png": "[encoded data removed]",
      "text/plain": [
       "<Figure size 640x480 with 2 Axes>"
      ]
     },
     "metadata": {},
     "output_type": "display_data"
    }
   ],
   "source": [
    "## Didn't help either\n",
    "\n",
    "# Predict probabilities of being 1\n",
    "y_probs = xgb_clf.predict_proba(X_test)[:, 1] # returns probabilities of being a [0, 1]\n",
    "\n",
    "# Adjust threshold to favor false positives\n",
    "threshold = 0.1  # Example threshold, adjust based on validation set performance\n",
    "y_pred_adjusted = (y_probs >= threshold).astype(int)\n",
    "\n",
    "# Evaluate the adjusted predictions\n",
    "\n",
    "print(ConfusionMatrixDisplay.from_predictions(y_test, y_pred_adjusted))"
   ]
  },
  {
   "cell_type": "markdown",
   "metadata": {},
   "source": [
    "### Finally dealing with outliers\n",
    "\n",
    "It could be that the three mislabeled cases are actually outliers in our data. When we compare the cross-validation score for the whole data set, we get an average of 99.3%, which improves slightly to 99.6% when we remove the outliers. In our case, it seems that removing outliers can improve our model, albeit very slightly.\n",
    "\n",
    "In our cross-validation attempts, four out of five test-train splits produce a 100% accuracy for the data set without outliers, compared to three out of five 100% accuracy runs on the whole data set. Thus, removing outliers seems to produce an improvement in our model and will often eliminate false negatives while also yielding high performance across the board."
   ]
  },
  {
   "cell_type": "code",
   "execution_count": 127,
   "metadata": {},
   "outputs": [
    {
     "name": "stdout",
     "output_type": "stream",
     "text": [
      "cross validate scores: [0.9804878  1.         1.         1.         0.98536585]\n",
      "average: 0.9931707317073171\n"
     ]
    }
   ],
   "source": [
    "# Find cross validate score for whole data set\n",
    "scores = cross_val_score(grid_search.best_estimator_, X, y, cv=5)\n",
    "print(f\"cross validate scores: {scores}\")\n",
    "\n",
    "avg = np.average(scores)\n",
    "print(f\"average: {avg}\")"
   ]
  },
  {
   "cell_type": "code",
   "execution_count": 125,
   "metadata": {},
   "outputs": [
    {
     "name": "stdout",
     "output_type": "stream",
     "text": [
      "cross validate scores: [1.         1.         1.         1.         0.98445596]\n",
      "average: 0.9968911917098445\n"
     ]
    }
   ],
   "source": [
    "# Find cross validate score for data set without outliers\n",
    "outliers = find_outliers(df)\n",
    "\n",
    "df_no_outliers = df.drop(index=outliers)\n",
    "\n",
    "X_no_outliers = df_no_outliers.drop(columns=\"target\")\n",
    "y_no_outliers = df_no_outliers[\"target\"]\n",
    "\n",
    "scores = cross_val_score(grid_search.best_estimator_, X_no_outliers, y_no_outliers, cv=5)\n",
    "print(f\"cross validate scores: {scores}\")\n",
    "\n",
    "avg = np.average(scores)\n",
    "print(f\"average: {avg}\")"
   ]
  }
 ],
 "metadata": {
  "kernelspec": {
   "display_name": "venv",
   "language": "python",
   "name": "python3"
  },
  "language_info": {
   "codemirror_mode": {
    "name": "ipython",
    "version": 3
   },
   "file_extension": ".py",
   "mimetype": "text/x-python",
   "name": "python",
   "nbconvert_exporter": "python",
   "pygments_lexer": "ipython3",
   "version": "3.10.12"
  }
 },
 "nbformat": 4,
 "nbformat_minor": 2
}
